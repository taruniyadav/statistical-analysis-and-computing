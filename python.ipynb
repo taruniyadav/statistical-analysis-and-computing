{
 "cells": [
  {
   "cell_type": "code",
   "execution_count": 200,
   "id": "281639c2-89d7-460e-a6b6-54a3bdc59aa8",
   "metadata": {},
   "outputs": [
    {
     "name": "stdout",
     "output_type": "stream",
     "text": [
      "[(3, 'c'), (1, 'b'), (2, 'b'), (1, 'a'), (2, 'a'), (3, 'a')]\n"
     ]
    }
   ],
   "source": [
    "#use of lambda function\n",
    "lst=[(3,'c'),(1,'a'),(2,'b'),(2,'a'),(1,'b'),(3,'a')]\n",
    "a=sorted(lst,key=lambda x:(-ord(x[1]),x[0]))\n",
    "print(a)"
   ]
  },
  {
   "cell_type": "code",
   "execution_count": 7,
   "id": "8675cf3b-69ab-4519-aaca-9affc5f0aef2",
   "metadata": {},
   "outputs": [
    {
     "name": "stdout",
     "output_type": "stream",
     "text": [
      "['banana', 'cherry']\n"
     ]
    }
   ],
   "source": [
    "#print the strings which have size greater than 5\n",
    "strings = [\"apple\", \"banana\", \"cherry\", \"date\", \"fig\", \"grape\"]\n",
    "filtered_strings = list(filter(lambda s: len(s) > 5, strings))\n",
    "print(filtered_strings)"
   ]
  },
  {
   "cell_type": "code",
   "execution_count": 26,
   "id": "ac12f80b-3478-413d-aef9-caa398a4c4e2",
   "metadata": {},
   "outputs": [
    {
     "name": "stdout",
     "output_type": "stream",
     "text": [
      "1\n"
     ]
    }
   ],
   "source": [
    "#accessin the first element of the first row of the first column in 3d array\n",
    "import numpy as np\n",
    "ar=np.array([\n",
    "    [[1,2,3],[4,5,6]],\n",
    "    [[7,8,9],[10,11,12]],\n",
    "    [[13,14,15],[16,17,18]]\n",
    "])\n",
    "l=ar[0,0,0]\n",
    "print(l)"
   ]
  },
  {
   "cell_type": "code",
   "execution_count": 36,
   "id": "ae71eafa-2a39-424d-baf9-a36b96ca54c8",
   "metadata": {},
   "outputs": [
    {
     "name": "stdin",
     "output_type": "stream",
     "text": [
      "Enter an integer (or 'q' to quit):  1\n",
      "Enter an integer (or 'q' to quit):  2\n",
      "Enter an integer (or 'q' to quit):  3\n",
      "Enter an integer (or 'q' to quit):  e\n"
     ]
    },
    {
     "name": "stdout",
     "output_type": "stream",
     "text": [
      "Error: Please enter a valid integer. Ignoring this input.\n"
     ]
    },
    {
     "name": "stdin",
     "output_type": "stream",
     "text": [
      "Enter an integer (or 'q' to quit):  q\n"
     ]
    },
    {
     "name": "stdout",
     "output_type": "stream",
     "text": [
      "The sum of the integers entered is:  6\n"
     ]
    }
   ],
   "source": [
    "#the sum of the integers\n",
    "def calculate_sum_of_integers():\n",
    "    total_sum = 0\n",
    "    \n",
    "    while True:\n",
    "        try:\n",
    "            num_str = input(\"Enter an integer (or 'q' to quit): \")\n",
    "            \n",
    "            if num_str == 'q':\n",
    "                break\n",
    "            \n",
    "            num = int(num_str)\n",
    "            total_sum += num\n",
    "            \n",
    "        except ValueError:\n",
    "            print(\"Error: Please enter a valid integer. Ignoring this input.\")\n",
    "    \n",
    "    return total_sum\n",
    "\n",
    "# Calculate the sum of integers entered by the user\n",
    "total_sum = calculate_sum_of_integers()\n",
    "print(f\"The sum of the integers entered is: \",total_sum)"
   ]
  },
  {
   "cell_type": "code",
   "execution_count": 30,
   "id": "d9b28868-bf26-498f-8d5b-8a96ba488c6d",
   "metadata": {},
   "outputs": [
    {
     "name": "stdout",
     "output_type": "stream",
     "text": [
      "5\n",
      "8\n"
     ]
    }
   ],
   "source": [
    "#accessing elements from the 2d array\n",
    "n=np.array([[1,2,3],\n",
    "            [4,5,6],\n",
    "            [7,8,9],\n",
    "            [10,11,12]])\n",
    "a=n[1,1]\n",
    "b=n[2,1]\n",
    "print(a)\n",
    "print(b)"
   ]
  },
  {
   "cell_type": "code",
   "execution_count": 8,
   "id": "0701fae0-1390-4188-80b4-d17b9ea55274",
   "metadata": {},
   "outputs": [
    {
     "name": "stdout",
     "output_type": "stream",
     "text": [
      "2.5\n",
      "error: the file is not present\n"
     ]
    }
   ],
   "source": [
    "# file operations in python\n",
    "f=open(\"abc.txt\",\"w\")\n",
    "f.write(\"\\n1\\n2\\n3\\n4\\n\")\n",
    "l=[]\n",
    "count=1\n",
    "f=open(\"abc.txt\",\"r\")\n",
    "for i in f.read():\n",
    "    if(i!='\\n'):\n",
    "        j=int(i)\n",
    "        l.append(j)\n",
    "avg=sum(l)/len(l)\n",
    "print(avg)\n",
    "try:\n",
    "    f1=open(\"xyz.txt\")\n",
    "    a=10/0\n",
    "except FileNotFoundError:\n",
    "    print(\"error: the file is not present\")\n",
    "except ZeroDivisionError:\n",
    "    print(\"error: cannot be divided by zero\")"
   ]
  },
  {
   "cell_type": "code",
   "execution_count": 25,
   "id": "b1509a03-83f3-465b-a2de-3cdca0df41ae",
   "metadata": {},
   "outputs": [
    {
     "name": "stdout",
     "output_type": "stream",
     "text": [
      "['info@example.com', 'support@example.com']\n"
     ]
    }
   ],
   "source": [
    "#usage of re module\n",
    "text = 'Please email us at info@example.com or support@example.com'\n",
    "email_addresses = re.findall('[a-zA-Z0-9._%+-]+@[a-zA-Z0-9.-]+\\.[a-zA-Z]{2,}', text)\n",
    "print(email_addresses)\n"
   ]
  },
  {
   "cell_type": "code",
   "execution_count": 148,
   "id": "ff8cf469-c092-4d14-bf57-78fe7fcb8fb8",
   "metadata": {},
   "outputs": [
    {
     "name": "stdout",
     "output_type": "stream",
     "text": [
      "this apple those bananas\n"
     ]
    }
   ],
   "source": [
    "#removing stop keywords\n",
    "import re\n",
    "import nltk\n",
    "text = 'this is an apple and those are bananas '\n",
    "pattern = r'\\b(?:a|an|...|now)\\b'\n",
    "cleaned_text = re.sub(pattern, ' ', text)\n",
    "cleaned_text = re.sub(r'\\s+', ' ', cleaned_text).strip()\n",
    "print(cleaned_text)"
   ]
  },
  {
   "cell_type": "code",
   "execution_count": 164,
   "id": "9223046d-59d6-4c52-99d6-c8356b29c73d",
   "metadata": {},
   "outputs": [
    {
     "name": "stdout",
     "output_type": "stream",
     "text": [
      "[[[6 0 4 5]\n",
      "  [9 3 0 2]\n",
      "  [1 8 0 4]\n",
      "  [0 3 6 3]]\n",
      "\n",
      " [[3 0 2 5]\n",
      "  [0 4 9 3]\n",
      "  [2 3 4 7]\n",
      "  [4 4 5 5]]\n",
      "\n",
      " [[5 6 4 6]\n",
      "  [4 8 7 3]\n",
      "  [3 6 4 0]\n",
      "  [6 8 6 6]]\n",
      "\n",
      " [[3 1 1 4]\n",
      "  [5 0 4 6]\n",
      "  [7 5 1 1]\n",
      "  [5 9 4 6]]]\n",
      "6\n"
     ]
    }
   ],
   "source": [
    "#accessing the last element of the last row of the last column\n",
    "n=np.random.randint(10,size=(4,4,4))\n",
    "print(n)\n",
    "y=n[3,3,3]\n",
    "print(y)"
   ]
  },
  {
   "cell_type": "code",
   "execution_count": 174,
   "id": "f7a4f8f9-8c65-4b86-8167-c02f18e7733c",
   "metadata": {},
   "outputs": [
    {
     "data": {
      "text/plain": [
       "{2: 4,\n",
       " 4: 16,\n",
       " 6: 36,\n",
       " 8: 64,\n",
       " 10: 100,\n",
       " 12: 144,\n",
       " 14: 196,\n",
       " 16: 256,\n",
       " 18: 324,\n",
       " 20: 400}"
      ]
     },
     "execution_count": 174,
     "metadata": {},
     "output_type": "execute_result"
    }
   ],
   "source": [
    "#dictionary comprehensions\n",
    "a={n:n**2  for n in range(2,21,2)}\n",
    "a"
   ]
  },
  {
   "cell_type": "code",
   "execution_count": 179,
   "id": "b11ddc7a-1ebf-4232-80a1-8a6bce8f5a02",
   "metadata": {},
   "outputs": [
    {
     "name": "stdout",
     "output_type": "stream",
     "text": [
      "10\n"
     ]
    }
   ],
   "source": [
    "n=np.array([[1,10,3],\n",
    "            [3,5,9]])\n",
    "y=n[0,1]\n",
    "print(y)"
   ]
  },
  {
   "cell_type": "code",
   "execution_count": 184,
   "id": "6a0d7c39-0a03-4bc9-8af9-9ceafc315677",
   "metadata": {},
   "outputs": [
    {
     "data": {
      "text/plain": [
       "array([[[8.48798317e-314, 1.27319747e-313]],\n",
       "\n",
       "       [[1.48539705e-313, 6.36598738e-314]],\n",
       "\n",
       "       [[2.12199580e-314, 1.27319747e-313]]])"
      ]
     },
     "execution_count": 184,
     "metadata": {},
     "output_type": "execute_result"
    }
   ],
   "source": [
    "arr=np.empty((3,1,2))\n",
    "arr"
   ]
  },
  {
   "cell_type": "code",
   "execution_count": 199,
   "id": "e6284790-3855-499e-8195-d09b595def23",
   "metadata": {},
   "outputs": [
    {
     "name": "stdout",
     "output_type": "stream",
     "text": [
      "{2, 3, 5, 7}\n"
     ]
    }
   ],
   "source": [
    "#dictionary comprehension to print first 10 prime numbers\n",
    "primes = {x for x in range(2, 11) if all(x % i  for i in range(2, int(x**0.5) +1 ))}\n",
    "print(primes)"
   ]
  },
  {
   "cell_type": "code",
   "execution_count": 201,
   "id": "519250a8-918b-4d07-af3f-a2dda7317a18",
   "metadata": {},
   "outputs": [
    {
     "data": {
      "text/plain": [
       "['chash', 'dee', 'dev', 'taruni']"
      ]
     },
     "execution_count": 201,
     "metadata": {},
     "output_type": "execute_result"
    }
   ],
   "source": [
    "n=['taruni','dev','dee','chash']\n",
    "y=list(sorted(n))\n",
    "y"
   ]
  },
  {
   "cell_type": "code",
   "execution_count": 202,
   "id": "e8337888-f0e2-48a9-ab3d-43a85e7108ea",
   "metadata": {},
   "outputs": [
    {
     "name": "stdout",
     "output_type": "stream",
     "text": [
      "{'a': [1, 4], 'b': [2], 'c': [3, 5]}\n"
     ]
    }
   ],
   "source": [
    "#zipping keys and values\n",
    "keys = ['a', 'b', 'c', 'a', 'c']\n",
    "values = [1, 2, 3, 4, 5]\n",
    "\n",
    "result = {}\n",
    "for key, value in zip(keys, values):\n",
    "    result.setdefault(key, []).append(value)\n",
    "\n",
    "print(result)"
   ]
  }
 ],
 "metadata": {
  "kernelspec": {
   "display_name": "Python 3 (ipykernel)",
   "language": "python",
   "name": "python3"
  },
  "language_info": {
   "codemirror_mode": {
    "name": "ipython",
    "version": 3
   },
   "file_extension": ".py",
   "mimetype": "text/x-python",
   "name": "python",
   "nbconvert_exporter": "python",
   "pygments_lexer": "ipython3",
   "version": "3.11.7"
  }
 },
 "nbformat": 4,
 "nbformat_minor": 5
}
