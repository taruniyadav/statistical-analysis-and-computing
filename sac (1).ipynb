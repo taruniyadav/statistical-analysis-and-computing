{
 "cells": [
  {
   "cell_type": "code",
   "execution_count": 1,
   "id": "1b7ad60d-7026-4c0b-894d-fdc029cc2a48",
   "metadata": {},
   "outputs": [
    {
     "name": "stdout",
     "output_type": "stream",
     "text": [
      "[1 2 3 4 5]\n"
     ]
    }
   ],
   "source": [
    "import numpy as np\n",
    "a=np.array([1,2,3,4,5])\n",
    "print(a)"
   ]
  },
  {
   "cell_type": "code",
   "execution_count": 7,
   "id": "39a674e6-4c17-49f3-a2d1-a87f9bd8491f",
   "metadata": {},
   "outputs": [
    {
     "name": "stdout",
     "output_type": "stream",
     "text": [
      "[ True  True  True  True False False]\n"
     ]
    }
   ],
   "source": [
    "a=[\"taruni\",3,4,3.0,0,False]\n",
    "d=np.array(a,dtype=bool)\n",
    "print(d)"
   ]
  },
  {
   "cell_type": "code",
   "execution_count": 5,
   "id": "835d74d5-c88a-4c68-aa61-d41a5a1aa1aa",
   "metadata": {},
   "outputs": [
    {
     "name": "stdout",
     "output_type": "stream",
     "text": [
      "[1 2 3 3]\n"
     ]
    }
   ],
   "source": [
    "a=np.array([1,2,3,3,4,4,6])\n",
    "b=np.extract(a<4,a)\n",
    "print(b)"
   ]
  },
  {
   "cell_type": "code",
   "execution_count": 9,
   "id": "a1da70be-d449-4bab-b268-812b7273640c",
   "metadata": {},
   "outputs": [
    {
     "name": "stdout",
     "output_type": "stream",
     "text": [
      "[  1   2   3 111 111 111 111 111 111 111 111]\n"
     ]
    }
   ],
   "source": [
    "a=np.array([1,2,3,4,4,5,6,7,8,9,10])\n",
    "b=np.where(a>3,111,a)\n",
    "print(b)"
   ]
  },
  {
   "cell_type": "code",
   "execution_count": 10,
   "id": "44d7b62e-f990-4835-b47d-89ff93a12b15",
   "metadata": {},
   "outputs": [
    {
     "name": "stdout",
     "output_type": "stream",
     "text": [
      "[ 0  1  2  3  4  5  6  7  8  9 10 11 12 13 14 15]\n",
      "[111   1 111   3 111   5 111   7 111   9 111  11 111  13 111  15]\n"
     ]
    }
   ],
   "source": [
    "a=np.arange(16)\n",
    "b=np.where(a%2==0,111,a)\n",
    "print(a)\n",
    "print(b)"
   ]
  },
  {
   "cell_type": "code",
   "execution_count": 12,
   "id": "4f913a5a-7a58-4d2c-bb08-73131a32a232",
   "metadata": {},
   "outputs": [
    {
     "name": "stdout",
     "output_type": "stream",
     "text": [
      "[ 0  1  2  3  4  5  6  7  8  9 10 11 12 13 14 15]\n",
      "[[ 0  1  2  3]\n",
      " [ 4  5  6  7]\n",
      " [ 8  9 10 11]\n",
      " [12 13 14 15]]\n"
     ]
    }
   ],
   "source": [
    "a=np.arange(16)\n",
    "b=a.reshape(4,4)\n",
    "print(a)\n",
    "print(b)"
   ]
  },
  {
   "cell_type": "code",
   "execution_count": 15,
   "id": "c9880c66-7cdc-42b9-8b94-e6924bf25919",
   "metadata": {},
   "outputs": [
    {
     "name": "stdout",
     "output_type": "stream",
     "text": [
      "[ 0  1  2  3  4  5  6  7  8  9 10 11 12 13 14 15]\n",
      "(array([ 4,  5,  6,  7,  8,  9, 10, 11, 12], dtype=int64),)\n"
     ]
    }
   ],
   "source": [
    "a=np.arange(16)\n",
    "b=np.where((a>3) &(a<13))\n",
    "print(a)\n",
    "print(b)"
   ]
  },
  {
   "cell_type": "code",
   "execution_count": 28,
   "id": "1fd8e044-cef3-49d0-b14e-4a5453df9527",
   "metadata": {},
   "outputs": [
    {
     "name": "stdout",
     "output_type": "stream",
     "text": [
      "[[ 1  2  3]\n",
      " [ 4  5  6]\n",
      " [ 6  7  8]\n",
      " [ 9 10 11]]\n"
     ]
    }
   ],
   "source": [
    "a=np.array([[1,2,3],[4,5,6]])\n",
    "b=np.array([[6,7,8],[9,10,11]])\n",
    "c=np.vstack((a,b))\n",
    "print(c)"
   ]
  },
  {
   "cell_type": "code",
   "execution_count": 29,
   "id": "65005acb-2cc3-4fae-9d57-5b25f7417090",
   "metadata": {},
   "outputs": [
    {
     "name": "stdout",
     "output_type": "stream",
     "text": [
      "[[ 1  2  3  6  7  8]\n",
      " [ 4  5  6  9 10 11]]\n"
     ]
    }
   ],
   "source": [
    "a=np.array([[1,2,3],[4,5,6]])\n",
    "b=np.array([[6,7,8],[9,10,11]])\n",
    "c=np.hstack((a,b))\n",
    "print(c)"
   ]
  },
  {
   "cell_type": "code",
   "execution_count": 32,
   "id": "48dc1f5c-966d-4a97-84b5-6b10f064f03e",
   "metadata": {},
   "outputs": [
    {
     "name": "stdout",
     "output_type": "stream",
     "text": [
      "[3 4 5]\n"
     ]
    }
   ],
   "source": [
    "a=np.array([1,2,3,4,5])\n",
    "b=np.array([3,4,5,6,7])\n",
    "c=np.intersect1d(a,b)\n",
    "print(c)"
   ]
  },
  {
   "cell_type": "code",
   "execution_count": 33,
   "id": "d75679f1-14ce-4f87-9ea9-34b813a14162",
   "metadata": {},
   "outputs": [
    {
     "name": "stdout",
     "output_type": "stream",
     "text": [
      "[1 2]\n"
     ]
    }
   ],
   "source": [
    "a=np.array([1,2,3,4,5])\n",
    "b=np.array([3,4,5,6,7])\n",
    "c=np.setdiff1d(a,b)\n",
    "print(c)"
   ]
  },
  {
   "cell_type": "code",
   "execution_count": 3,
   "id": "8cee1c2f-0666-4153-a0f8-ddb5747ad482",
   "metadata": {},
   "outputs": [
    {
     "name": "stdout",
     "output_type": "stream",
     "text": [
      "(array([3, 4], dtype=int64),)\n"
     ]
    }
   ],
   "source": [
    "import numpy as np\n",
    "a=np.array([1,2,3,4,5])\n",
    "b=np.where(a>3)\n",
    "print(b)"
   ]
  },
  {
   "cell_type": "code",
   "execution_count": 59,
   "id": "e0d5778c-6dfb-40b6-b5e1-5102871c4237",
   "metadata": {},
   "outputs": [
    {
     "name": "stdout",
     "output_type": "stream",
     "text": [
      "reshaping: [[1 2 3 4 5 6 7 8]]\n"
     ]
    }
   ],
   "source": [
    "a=np.array([[1,2,3,4],[5,6,7,8]])\n",
    "b=a.reshape(1,-1)\n",
    "print(\"reshaping:\",b)"
   ]
  },
  {
   "cell_type": "code",
   "execution_count": 58,
   "id": "eaf70e2b-ff76-49e0-8b53-0b959b59eb48",
   "metadata": {},
   "outputs": [
    {
     "name": "stdout",
     "output_type": "stream",
     "text": [
      "[[0 1 2]\n",
      " [3 4 5]\n",
      " [6 7 8]]\n",
      "after swapping:\n"
     ]
    },
    {
     "data": {
      "text/plain": [
       "array([[2, 1, 0],\n",
       "       [5, 4, 3],\n",
       "       [8, 7, 6]])"
      ]
     },
     "execution_count": 58,
     "metadata": {},
     "output_type": "execute_result"
    }
   ],
   "source": [
    "a=np.arange(9).reshape(3,3)\n",
    "print(a)\n",
    "print(\"after swapping:\")\n",
    "a[:,[2,1,0]]"
   ]
  },
  {
   "cell_type": "code",
   "execution_count": 8,
   "id": "2a17b2b1-f1de-4d07-9629-601e1665e5e7",
   "metadata": {},
   "outputs": [
    {
     "name": "stdout",
     "output_type": "stream",
     "text": [
      "mean : 5.0\n",
      "median : 5.0\n",
      "standardization : 2.581988897471611\n"
     ]
    }
   ],
   "source": [
    "a=np.array([1,2,3,4,5,6,7,8,9])\n",
    "b=np.mean(a)\n",
    "c=np.median(a)\n",
    "d=np.std(a)\n",
    "print(\"mean :\",b)\n",
    "print(\"median :\",c)\n",
    "print(\"standardization :\",d)"
   ]
  },
  {
   "cell_type": "code",
   "execution_count": 57,
   "id": "a245fbc7-d7a3-4df2-b223-5397f8b030c3",
   "metadata": {},
   "outputs": [
    {
     "name": "stdout",
     "output_type": "stream",
     "text": [
      "percentile: [10. 11.]\n"
     ]
    }
   ],
   "source": [
    "a=np.arange(101)\n",
    "p=np.percentile(a,q=[10,11])\n",
    "print(\"percentile :\",p)"
   ]
  },
  {
   "cell_type": "code",
   "execution_count": 73,
   "id": "8a70de51-0be3-4021-89a8-778d917ffbd9",
   "metadata": {},
   "outputs": [
    {
     "name": "stdout",
     "output_type": "stream",
     "text": [
      "euclidean distance: 8.366600265340756\n"
     ]
    }
   ],
   "source": [
    "x=np.array([1,2,3,4,5,6])\n",
    "y=np.array([6,5,4,3,2,1])\n",
    "dist=np.linalg.norm(x-y)\n",
    "print(\"euclidean distance :\",dist)"
   ]
  },
  {
   "cell_type": "code",
   "execution_count": 51,
   "id": "05c53686-4e43-4e0d-bd16-1cd2e02834eb",
   "metadata": {},
   "outputs": [
    {
     "name": "stdout",
     "output_type": "stream",
     "text": [
      "correlation: [[1.         0.70330132]\n",
      " [0.70330132 1.        ]]\n"
     ]
    }
   ],
   "source": [
    "import random\n",
    "a=np.random.randint(0,100,500)\n",
    "b=a+np.random.randint(0,100,500)\n",
    "corr=np.corrcoef(a,b)\n",
    "print(\"correlation :\",corr)"
   ]
  },
  {
   "cell_type": "code",
   "execution_count": 96,
   "id": "b6c3e7a3-2a99-4f0c-af6d-2e3551a11062",
   "metadata": {},
   "outputs": [
    {
     "name": "stdout",
     "output_type": "stream",
     "text": [
      "probabiliatic sample : ['e' 'b' 'c' 'd']\n"
     ]
    }
   ],
   "source": [
    "a=np.array(['a','b','c','d','e'])\n",
    "b=np.array([1,2,3,4,5])\n",
    "b=b/b.sum()\n",
    "s=np.random.choice(a,size=4,p=b)\n",
    "print(\"probabiliatic sample :\",s)"
   ]
  },
  {
   "cell_type": "code",
   "execution_count": 98,
   "id": "63d8a18c-2f96-4bc1-8896-25a8743a87bc",
   "metadata": {},
   "outputs": [
    {
     "name": "stdout",
     "output_type": "stream",
     "text": [
      "[4 2 9 8 2 0 9 4 9 9]\n",
      "moving average : [2. 3. 4. 5.]\n"
     ]
    }
   ],
   "source": [
    "n=np.random.randint(10,size=10)\n",
    "movavg=np.convolve(x,np.ones(3)/3,mode='valid')\n",
    "print(n)\n",
    "print(\"moving average :\",movavg)"
   ]
  },
  {
   "cell_type": "code",
   "execution_count": 101,
   "id": "323815a1-5a2b-4412-8069-989684a3d41b",
   "metadata": {},
   "outputs": [
    {
     "data": {
      "text/plain": [
       "array([[1, 1]], dtype=int64)"
      ]
     },
     "execution_count": 101,
     "metadata": {},
     "output_type": "execute_result"
    }
   ],
   "source": [
    "n=np.array([[1,2,3],[4,np.nan,5]])\n",
    "np.argwhere(np.isnan(n))"
   ]
  },
  {
   "cell_type": "code",
   "execution_count": 115,
   "id": "02106f0e-e92d-4941-955c-5cf8b6d02edb",
   "metadata": {},
   "outputs": [
    {
     "data": {
      "text/plain": [
       "array([[1., 2., 3.]])"
      ]
     },
     "execution_count": 115,
     "metadata": {},
     "output_type": "execute_result"
    }
   ],
   "source": [
    "a=np.array([[1,2,3],[4,5,np.nan]])\n",
    "a[~np.isnan(a).any(axis=1)]"
   ]
  },
  {
   "cell_type": "code",
   "execution_count": 122,
   "id": "4ee2cb06-fead-45e2-a5e7-729e75ee4f5d",
   "metadata": {},
   "outputs": [
    {
     "name": "stdout",
     "output_type": "stream",
     "text": [
      "[[1. 2. 3.]\n",
      " [7. 8. 0.]]\n"
     ]
    }
   ],
   "source": [
    "a=np.array([[1,2,3],\n",
    "            [7,8,np.nan]])\n",
    "a[np.isnan(a)]=0\n",
    "print(a)"
   ]
  },
  {
   "cell_type": "code",
   "execution_count": 120,
   "id": "7d01826a-c8ff-4721-ac47-3cd999f01aa5",
   "metadata": {},
   "outputs": [
    {
     "data": {
      "text/plain": [
       "array([1., 2., 3., 3., 4.])"
      ]
     },
     "execution_count": 120,
     "metadata": {},
     "output_type": "execute_result"
    }
   ],
   "source": [
    "a=np.array([[1,2,3],\n",
    "            [3,4,np.nan]])\n",
    "a[~np.isnan(a)]"
   ]
  },
  {
   "cell_type": "code",
   "execution_count": 134,
   "id": "959a3b99-b37d-4a52-9ded-1946237fc563",
   "metadata": {},
   "outputs": [
    {
     "name": "stdout",
     "output_type": "stream",
     "text": [
      "normalization : [0.  0.2 0.4 0.6 0.8 1. ]\n"
     ]
    }
   ],
   "source": [
    "a=np.array([1,2,3,4,5,6])\n",
    "b=(a-np.min(a))/(np.max(a)-np.min(a))\n",
    "print(\"normalization :\",b)"
   ]
  },
  {
   "cell_type": "code",
   "execution_count": 141,
   "id": "f400401a-9de6-4536-937e-44e98e2327f2",
   "metadata": {},
   "outputs": [
    {
     "name": "stdout",
     "output_type": "stream",
     "text": [
      "[[ 2  1  1  8]\n",
      " [ 1  0 12 13]\n",
      " [14  7  8  3]\n",
      " [ 3  7 13  9]]\n",
      "min-by-max: [0.125      0.         0.21428571 0.23076923]\n"
     ]
    }
   ],
   "source": [
    "a=np.random.randint(16,size=16)\n",
    "a=a.reshape(4,4)\n",
    "print(a)\n",
    "a=a.min(axis=1)/a.max(axis=1)\n",
    "print(\"min-by-max:\",a)"
   ]
  },
  {
   "cell_type": "code",
   "execution_count": 151,
   "id": "043da360-2c89-4479-b512-1e450c6a89d0",
   "metadata": {},
   "outputs": [
    {
     "name": "stdout",
     "output_type": "stream",
     "text": [
      "0    1\n",
      "1    2\n",
      "2    3\n",
      "dtype: int64\n"
     ]
    }
   ],
   "source": [
    "import pandas as pd\n",
    "a=pd.Series([1,2,3])\n",
    "print(a)"
   ]
  },
  {
   "cell_type": "code",
   "execution_count": 153,
   "id": "1151412f-8202-4421-a9e9-5c600382d9b8",
   "metadata": {},
   "outputs": [
    {
     "name": "stdout",
     "output_type": "stream",
     "text": [
      "0    1\n",
      "1    2\n",
      "2    3\n",
      "3    4\n",
      "4    5\n",
      "5    6\n",
      "6    7\n",
      "7    8\n",
      "8    9\n",
      "dtype: int32\n"
     ]
    }
   ],
   "source": [
    "a=np.array([1,2,3,4,5,6,7,8,9])\n",
    "b=pd.Series(a)\n",
    "print(b)"
   ]
  },
  {
   "cell_type": "code",
   "execution_count": 154,
   "id": "7ee64738-21de-4941-8a4a-321651bc3c9f",
   "metadata": {},
   "outputs": [
    {
     "name": "stdout",
     "output_type": "stream",
     "text": [
      "a    1\n",
      "b    2\n",
      "c    3\n",
      "d    4\n",
      "dtype: int64\n"
     ]
    }
   ],
   "source": [
    "a=({\"a\":1,\"b\":2,\"c\":3,\"d\":4})\n",
    "b=pd.Series(a)\n",
    "print(b)"
   ]
  },
  {
   "cell_type": "code",
   "execution_count": 156,
   "id": "cc4b9572-35c9-480f-b355-8b411cd57bb4",
   "metadata": {},
   "outputs": [
    {
     "name": "stdout",
     "output_type": "stream",
     "text": [
      "  index  0\n",
      "0     a  1\n",
      "1     b  2\n",
      "2     c  3\n",
      "3     d  4\n"
     ]
    }
   ],
   "source": [
    "a=({\"a\":1,\"b\":2,\"c\":3,\"d\":4})\n",
    "b=pd.Series(a)\n",
    "c=b.to_frame().reset_index()\n",
    "print(c)"
   ]
  },
  {
   "cell_type": "code",
   "execution_count": 169,
   "id": "1a1c3196-62f6-4ec0-9a0b-9694bdfea1db",
   "metadata": {},
   "outputs": [
    {
     "name": "stdout",
     "output_type": "stream",
     "text": [
      "concatinating two many series to form a dataframe:\n",
      "  sample1 sample2\n",
      "0       a       d\n",
      "1       b       e\n",
      "2       c       f\n"
     ]
    }
   ],
   "source": [
    "a=pd.Series(['a','b','c'],name='sample1')\n",
    "b=pd.Series(['d','e','f'],name='sample2')\n",
    "d=pd.concat([a,b],axis=1)\n",
    "print(\"concatinating two many series to form a dataframe:\")\n",
    "print(d)"
   ]
  },
  {
   "cell_type": "code",
   "execution_count": 171,
   "id": "5dc67e4d-2a05-47b5-8eda-a1fdb67292d8",
   "metadata": {},
   "outputs": [
    {
     "name": "stdout",
     "output_type": "stream",
     "text": [
      "normalization in pandas:\n",
      "   col1  col2\n",
      "0   0.0   0.6\n",
      "1   0.2   0.8\n",
      "2   0.4   1.0\n"
     ]
    }
   ],
   "source": [
    "a=pd.DataFrame({\"col1\":[1,2,3],\"col2\":[4,5,6]})\n",
    "xnorm=(a-np.min(a))/(np.max(a)-np.min(a))\n",
    "print(\"normalization in pandas:\")\n",
    "print(xnorm)"
   ]
  },
  {
   "cell_type": "code",
   "execution_count": 174,
   "id": "bc10872f-0aff-412a-8a4f-eda173b80898",
   "metadata": {},
   "outputs": [
    {
     "name": "stdout",
     "output_type": "stream",
     "text": [
      "   a  b  c\n",
      "0  1  2  3\n",
      "1  2  3  4\n",
      "2  3  4  5\n",
      "3  4  5  6\n",
      "4  5  6  7\n",
      "correlation_with_next_row:\n",
      "a    1.0\n",
      "b    1.0\n",
      "c    1.0\n",
      "dtype: float64\n"
     ]
    }
   ],
   "source": [
    "data=pd.DataFrame({\n",
    "        'a':[1,2,3,4,5],\n",
    "        'b':[2,3,4,5,6],\n",
    "        'c':[3,4,5,6,7]})\n",
    "print(data)\n",
    "correlation_with_next_row=data.corrwith(data.shift(-1))\n",
    "print(\"correlation_with_next_row:\")\n",
    "print(correlation_with_next_row)"
   ]
  },
  {
   "cell_type": "code",
   "execution_count": 177,
   "id": "4804d19c-a8e8-4404-9932-cf29b4fa584b",
   "metadata": {},
   "outputs": [
    {
     "name": "stdout",
     "output_type": "stream",
     "text": [
      "num_series:\n",
      "0     32\n",
      "1     62\n",
      "2     54\n",
      "3     86\n",
      "4     67\n",
      "      ..\n",
      "95    92\n",
      "96    19\n",
      "97    98\n",
      "98    81\n",
      "99    39\n",
      "Length: 100, dtype: int32\n",
      "auto_correlation with lag 1:\n",
      "0.0863181566193701\n"
     ]
    }
   ],
   "source": [
    "import pandas as pd \n",
    "import numpy as np\n",
    "num_series=pd.Series(np.random.randint(1,100,100))\n",
    "auto_correlation=num_series.autocorr()\n",
    "print(\"num_series:\")\n",
    "print(num_series)\n",
    "print(\"auto_correlation with lag 1:\")\n",
    "print(auto_correlation)"
   ]
  },
  {
   "cell_type": "code",
   "execution_count": null,
   "id": "7de85421-c118-4c67-be11-fb091cf69cda",
   "metadata": {},
   "outputs": [],
   "source": []
  }
 ],
 "metadata": {
  "kernelspec": {
   "display_name": "Python 3 (ipykernel)",
   "language": "python",
   "name": "python3"
  },
  "language_info": {
   "codemirror_mode": {
    "name": "ipython",
    "version": 3
   },
   "file_extension": ".py",
   "mimetype": "text/x-python",
   "name": "python",
   "nbconvert_exporter": "python",
   "pygments_lexer": "ipython3",
   "version": "3.11.7"
  }
 },
 "nbformat": 4,
 "nbformat_minor": 5
}
